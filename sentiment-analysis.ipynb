{
 "cells": [
  {
   "cell_type": "code",
   "execution_count": 1,
   "id": "0148f616",
   "metadata": {
    "_cell_guid": "b1076dfc-b9ad-4769-8c92-a6c4dae69d19",
    "_uuid": "8f2839f25d086af736a60e9eeb907d3b93b6e0e5",
    "execution": {
     "iopub.execute_input": "2024-02-25T08:45:20.735236Z",
     "iopub.status.busy": "2024-02-25T08:45:20.734886Z",
     "iopub.status.idle": "2024-02-25T08:45:24.118242Z",
     "shell.execute_reply": "2024-02-25T08:45:24.116687Z"
    },
    "papermill": {
     "duration": 3.390801,
     "end_time": "2024-02-25T08:45:24.120557",
     "exception": false,
     "start_time": "2024-02-25T08:45:20.729756",
     "status": "completed"
    },
    "tags": []
   },
   "outputs": [],
   "source": [
    "import pandas as pd\n",
    "import matplotlib.pyplot as plt\n",
    "import seaborn as sns\n",
    "import nltk"
   ]
  },
  {
   "cell_type": "code",
   "execution_count": 2,
   "id": "cf98dd77",
   "metadata": {
    "execution": {
     "iopub.execute_input": "2024-02-25T08:45:24.128953Z",
     "iopub.status.busy": "2024-02-25T08:45:24.128524Z",
     "iopub.status.idle": "2024-02-25T08:45:31.073788Z",
     "shell.execute_reply": "2024-02-25T08:45:31.072513Z"
    },
    "papermill": {
     "duration": 6.951971,
     "end_time": "2024-02-25T08:45:31.076124",
     "exception": false,
     "start_time": "2024-02-25T08:45:24.124153",
     "status": "completed"
    },
    "tags": []
   },
   "outputs": [
    {
     "data": {
      "text/html": [
       "<div>\n",
       "<style scoped>\n",
       "    .dataframe tbody tr th:only-of-type {\n",
       "        vertical-align: middle;\n",
       "    }\n",
       "\n",
       "    .dataframe tbody tr th {\n",
       "        vertical-align: top;\n",
       "    }\n",
       "\n",
       "    .dataframe thead th {\n",
       "        text-align: right;\n",
       "    }\n",
       "</style>\n",
       "<table border=\"1\" class=\"dataframe\">\n",
       "  <thead>\n",
       "    <tr style=\"text-align: right;\">\n",
       "      <th></th>\n",
       "      <th>Id</th>\n",
       "      <th>ProductId</th>\n",
       "      <th>UserId</th>\n",
       "      <th>ProfileName</th>\n",
       "      <th>HelpfulnessNumerator</th>\n",
       "      <th>HelpfulnessDenominator</th>\n",
       "      <th>Score</th>\n",
       "      <th>Time</th>\n",
       "      <th>Summary</th>\n",
       "      <th>Text</th>\n",
       "    </tr>\n",
       "  </thead>\n",
       "  <tbody>\n",
       "    <tr>\n",
       "      <th>0</th>\n",
       "      <td>1</td>\n",
       "      <td>B001E4KFG0</td>\n",
       "      <td>A3SGXH7AUHU8GW</td>\n",
       "      <td>delmartian</td>\n",
       "      <td>1</td>\n",
       "      <td>1</td>\n",
       "      <td>5</td>\n",
       "      <td>1303862400</td>\n",
       "      <td>Good Quality Dog Food</td>\n",
       "      <td>I have bought several of the Vitality canned d...</td>\n",
       "    </tr>\n",
       "    <tr>\n",
       "      <th>1</th>\n",
       "      <td>2</td>\n",
       "      <td>B00813GRG4</td>\n",
       "      <td>A1D87F6ZCVE5NK</td>\n",
       "      <td>dll pa</td>\n",
       "      <td>0</td>\n",
       "      <td>0</td>\n",
       "      <td>1</td>\n",
       "      <td>1346976000</td>\n",
       "      <td>Not as Advertised</td>\n",
       "      <td>Product arrived labeled as Jumbo Salted Peanut...</td>\n",
       "    </tr>\n",
       "    <tr>\n",
       "      <th>2</th>\n",
       "      <td>3</td>\n",
       "      <td>B000LQOCH0</td>\n",
       "      <td>ABXLMWJIXXAIN</td>\n",
       "      <td>Natalia Corres \"Natalia Corres\"</td>\n",
       "      <td>1</td>\n",
       "      <td>1</td>\n",
       "      <td>4</td>\n",
       "      <td>1219017600</td>\n",
       "      <td>\"Delight\" says it all</td>\n",
       "      <td>This is a confection that has been around a fe...</td>\n",
       "    </tr>\n",
       "    <tr>\n",
       "      <th>3</th>\n",
       "      <td>4</td>\n",
       "      <td>B000UA0QIQ</td>\n",
       "      <td>A395BORC6FGVXV</td>\n",
       "      <td>Karl</td>\n",
       "      <td>3</td>\n",
       "      <td>3</td>\n",
       "      <td>2</td>\n",
       "      <td>1307923200</td>\n",
       "      <td>Cough Medicine</td>\n",
       "      <td>If you are looking for the secret ingredient i...</td>\n",
       "    </tr>\n",
       "    <tr>\n",
       "      <th>4</th>\n",
       "      <td>5</td>\n",
       "      <td>B006K2ZZ7K</td>\n",
       "      <td>A1UQRSCLF8GW1T</td>\n",
       "      <td>Michael D. Bigham \"M. Wassir\"</td>\n",
       "      <td>0</td>\n",
       "      <td>0</td>\n",
       "      <td>5</td>\n",
       "      <td>1350777600</td>\n",
       "      <td>Great taffy</td>\n",
       "      <td>Great taffy at a great price.  There was a wid...</td>\n",
       "    </tr>\n",
       "    <tr>\n",
       "      <th>5</th>\n",
       "      <td>6</td>\n",
       "      <td>B006K2ZZ7K</td>\n",
       "      <td>ADT0SRK1MGOEU</td>\n",
       "      <td>Twoapennything</td>\n",
       "      <td>0</td>\n",
       "      <td>0</td>\n",
       "      <td>4</td>\n",
       "      <td>1342051200</td>\n",
       "      <td>Nice Taffy</td>\n",
       "      <td>I got a wild hair for taffy and ordered this f...</td>\n",
       "    </tr>\n",
       "    <tr>\n",
       "      <th>6</th>\n",
       "      <td>7</td>\n",
       "      <td>B006K2ZZ7K</td>\n",
       "      <td>A1SP2KVKFXXRU1</td>\n",
       "      <td>David C. Sullivan</td>\n",
       "      <td>0</td>\n",
       "      <td>0</td>\n",
       "      <td>5</td>\n",
       "      <td>1340150400</td>\n",
       "      <td>Great!  Just as good as the expensive brands!</td>\n",
       "      <td>This saltwater taffy had great flavors and was...</td>\n",
       "    </tr>\n",
       "  </tbody>\n",
       "</table>\n",
       "</div>"
      ],
      "text/plain": [
       "   Id   ProductId          UserId                      ProfileName  \\\n",
       "0   1  B001E4KFG0  A3SGXH7AUHU8GW                       delmartian   \n",
       "1   2  B00813GRG4  A1D87F6ZCVE5NK                           dll pa   \n",
       "2   3  B000LQOCH0   ABXLMWJIXXAIN  Natalia Corres \"Natalia Corres\"   \n",
       "3   4  B000UA0QIQ  A395BORC6FGVXV                             Karl   \n",
       "4   5  B006K2ZZ7K  A1UQRSCLF8GW1T    Michael D. Bigham \"M. Wassir\"   \n",
       "5   6  B006K2ZZ7K   ADT0SRK1MGOEU                   Twoapennything   \n",
       "6   7  B006K2ZZ7K  A1SP2KVKFXXRU1                David C. Sullivan   \n",
       "\n",
       "   HelpfulnessNumerator  HelpfulnessDenominator  Score        Time  \\\n",
       "0                     1                       1      5  1303862400   \n",
       "1                     0                       0      1  1346976000   \n",
       "2                     1                       1      4  1219017600   \n",
       "3                     3                       3      2  1307923200   \n",
       "4                     0                       0      5  1350777600   \n",
       "5                     0                       0      4  1342051200   \n",
       "6                     0                       0      5  1340150400   \n",
       "\n",
       "                                         Summary  \\\n",
       "0                          Good Quality Dog Food   \n",
       "1                              Not as Advertised   \n",
       "2                          \"Delight\" says it all   \n",
       "3                                 Cough Medicine   \n",
       "4                                    Great taffy   \n",
       "5                                     Nice Taffy   \n",
       "6  Great!  Just as good as the expensive brands!   \n",
       "\n",
       "                                                Text  \n",
       "0  I have bought several of the Vitality canned d...  \n",
       "1  Product arrived labeled as Jumbo Salted Peanut...  \n",
       "2  This is a confection that has been around a fe...  \n",
       "3  If you are looking for the secret ingredient i...  \n",
       "4  Great taffy at a great price.  There was a wid...  \n",
       "5  I got a wild hair for taffy and ordered this f...  \n",
       "6  This saltwater taffy had great flavors and was...  "
      ]
     },
     "execution_count": 2,
     "metadata": {},
     "output_type": "execute_result"
    }
   ],
   "source": [
    "df=pd.read_csv(\"/kaggle/input/amazon-fine-food-reviews/Reviews.csv\")\n",
    "df.head(7)\n"
   ]
  },
  {
   "cell_type": "markdown",
   "id": "168472ad",
   "metadata": {
    "papermill": {
     "duration": 0.003396,
     "end_time": "2024-02-25T08:45:31.083292",
     "exception": false,
     "start_time": "2024-02-25T08:45:31.079896",
     "status": "completed"
    },
    "tags": []
   },
   "source": [
    "\n",
    "## Exploring texts column"
   ]
  },
  {
   "cell_type": "code",
   "execution_count": 3,
   "id": "542fdebc",
   "metadata": {
    "execution": {
     "iopub.execute_input": "2024-02-25T08:45:31.092103Z",
     "iopub.status.busy": "2024-02-25T08:45:31.091725Z",
     "iopub.status.idle": "2024-02-25T08:45:31.102434Z",
     "shell.execute_reply": "2024-02-25T08:45:31.101324Z"
    },
    "papermill": {
     "duration": 0.017547,
     "end_time": "2024-02-25T08:45:31.104469",
     "exception": false,
     "start_time": "2024-02-25T08:45:31.086922",
     "status": "completed"
    },
    "tags": []
   },
   "outputs": [
    {
     "data": {
      "text/plain": [
       "'I have bought several of the Vitality canned dog food products and have found them all to be of good quality. The product looks more like a stew than a processed meat and it smells better. My Labrador is finicky and she appreciates this product better than  most.'"
      ]
     },
     "execution_count": 3,
     "metadata": {},
     "output_type": "execute_result"
    }
   ],
   "source": [
    "df['Text'][0]"
   ]
  },
  {
   "cell_type": "markdown",
   "id": "1118ddcb",
   "metadata": {
    "papermill": {
     "duration": 0.003202,
     "end_time": "2024-02-25T08:45:31.111394",
     "exception": false,
     "start_time": "2024-02-25T08:45:31.108192",
     "status": "completed"
    },
    "tags": []
   },
   "source": [
    "## QUICK EDA"
   ]
  },
  {
   "cell_type": "code",
   "execution_count": 4,
   "id": "1148a591",
   "metadata": {
    "execution": {
     "iopub.execute_input": "2024-02-25T08:45:31.120930Z",
     "iopub.status.busy": "2024-02-25T08:45:31.119848Z",
     "iopub.status.idle": "2024-02-25T08:45:31.399925Z",
     "shell.execute_reply": "2024-02-25T08:45:31.398700Z"
    },
    "papermill": {
     "duration": 0.288018,
     "end_time": "2024-02-25T08:45:31.402797",
     "exception": false,
     "start_time": "2024-02-25T08:45:31.114779",
     "status": "completed"
    },
    "tags": []
   },
   "outputs": [
    {
     "data": {
      "text/plain": [
       "Text(0, 0.5, 'Number of people')"
      ]
     },
     "execution_count": 4,
     "metadata": {},
     "output_type": "execute_result"
    },
    {
     "data": {
      "image/png": "[encoded data removed]",
      "text/plain": [
       "<Figure size 1000x500 with 1 Axes>"
      ]
     },
     "metadata": {},
     "output_type": "display_data"
    }
   ],
   "source": [
    "ax=df['Score'].value_counts().sort_index().plot(kind=\"bar\",title=\"reviews according to stars\",figsize=(10,5))\n",
    "ax.set_xlabel(\"Stars\")\n",
    "ax.set_ylabel(\"Number of people\")"
   ]
  },
  {
   "cell_type": "markdown",
   "id": "50408427",
   "metadata": {
    "papermill": {
     "duration": 0.003891,
     "end_time": "2024-02-25T08:45:31.410993",
     "exception": false,
     "start_time": "2024-02-25T08:45:31.407102",
     "status": "completed"
    },
    "tags": []
   },
   "source": [
    "## Basic nltk"
   ]
  },
  {
   "cell_type": "code",
   "execution_count": 5,
   "id": "31b209f5",
   "metadata": {
    "execution": {
     "iopub.execute_input": "2024-02-25T08:45:31.420969Z",
     "iopub.status.busy": "2024-02-25T08:45:31.420593Z",
     "iopub.status.idle": "2024-02-25T08:45:31.427058Z",
     "shell.execute_reply": "2024-02-25T08:45:31.425531Z"
    },
    "papermill": {
     "duration": 0.014421,
     "end_time": "2024-02-25T08:45:31.429561",
     "exception": false,
     "start_time": "2024-02-25T08:45:31.415140",
     "status": "completed"
    },
    "tags": []
   },
   "outputs": [
    {
     "name": "stdout",
     "output_type": "stream",
     "text": [
      "I have bought several of the Vitality canned dog food products and have found them all to be of good quality. The product looks more like a stew than a processed meat and it smells better. My Labrador is finicky and she appreciates this product better than  most.\n"
     ]
    }
   ],
   "source": [
    "example=df['Text'][0]\n",
    "print(example)"
   ]
  },
  {
   "cell_type": "code",
   "execution_count": 6,
   "id": "1e222a12",
   "metadata": {
    "execution": {
     "iopub.execute_input": "2024-02-25T08:45:31.439615Z",
     "iopub.status.busy": "2024-02-25T08:45:31.439239Z",
     "iopub.status.idle": "2024-02-25T08:45:31.456715Z",
     "shell.execute_reply": "2024-02-25T08:45:31.455709Z"
    },
    "papermill": {
     "duration": 0.025655,
     "end_time": "2024-02-25T08:45:31.459498",
     "exception": false,
     "start_time": "2024-02-25T08:45:31.433843",
     "status": "completed"
    },
    "tags": []
   },
   "outputs": [
    {
     "name": "stdout",
     "output_type": "stream",
     "text": [
      "['I', 'have', 'bought', 'several', 'of', 'the', 'Vitality', 'canned', 'dog', 'food', 'products', 'and', 'have', 'found', 'them', 'all', 'to', 'be', 'of', 'good', 'quality', '.', 'The', 'product', 'looks', 'more', 'like', 'a', 'stew', 'than', 'a', 'processed', 'meat', 'and', 'it', 'smells', 'better', '.', 'My', 'Labrador', 'is', 'finicky', 'and', 'she', 'appreciates', 'this', 'product', 'better', 'than', 'most', '.']\n"
     ]
    }
   ],
   "source": [
    "tokens=nltk.word_tokenize(example)\n",
    "print(tokens)"
   ]
  },
  {
   "cell_type": "code",
   "execution_count": 7,
   "id": "fc2c4c71",
   "metadata": {
    "execution": {
     "iopub.execute_input": "2024-02-25T08:45:31.470120Z",
     "iopub.status.busy": "2024-02-25T08:45:31.469731Z",
     "iopub.status.idle": "2024-02-25T08:45:31.566924Z",
     "shell.execute_reply": "2024-02-25T08:45:31.565986Z"
    },
    "papermill": {
     "duration": 0.104732,
     "end_time": "2024-02-25T08:45:31.568799",
     "exception": false,
     "start_time": "2024-02-25T08:45:31.464067",
     "status": "completed"
    },
    "tags": []
   },
   "outputs": [
    {
     "name": "stdout",
     "output_type": "stream",
     "text": [
      "[('I', 'PRP'), ('have', 'VBP'), ('bought', 'VBN'), ('several', 'JJ'), ('of', 'IN'), ('the', 'DT'), ('Vitality', 'NNP'), ('canned', 'VBD'), ('dog', 'RP'), ('food', 'NN')]\n"
     ]
    }
   ],
   "source": [
    "#  first 10\n",
    "tagged=nltk.pos_tag(tokens)[:10] \n",
    "print(tagged)"
   ]
  },
  {
   "cell_type": "code",
   "execution_count": 8,
   "id": "8d897d33",
   "metadata": {
    "execution": {
     "iopub.execute_input": "2024-02-25T08:45:31.578597Z",
     "iopub.status.busy": "2024-02-25T08:45:31.578187Z",
     "iopub.status.idle": "2024-02-25T08:45:31.680619Z",
     "shell.execute_reply": "2024-02-25T08:45:31.679338Z"
    },
    "papermill": {
     "duration": 0.110183,
     "end_time": "2024-02-25T08:45:31.683213",
     "exception": false,
     "start_time": "2024-02-25T08:45:31.573030",
     "status": "completed"
    },
    "tags": []
   },
   "outputs": [
    {
     "name": "stdout",
     "output_type": "stream",
     "text": [
      "(S\n",
      "  I/PRP\n",
      "  have/VBP\n",
      "  bought/VBN\n",
      "  several/JJ\n",
      "  of/IN\n",
      "  the/DT\n",
      "  (ORGANIZATION Vitality/NNP)\n",
      "  canned/VBD\n",
      "  dog/RP\n",
      "  food/NN)\n"
     ]
    }
   ],
   "source": [
    "chunktext=nltk.chunk.ne_chunk(tagged)\n",
    "chunktext.pprint()"
   ]
  },
  {
   "cell_type": "markdown",
   "id": "a5675269",
   "metadata": {
    "papermill": {
     "duration": 0.004045,
     "end_time": "2024-02-25T08:45:31.691819",
     "exception": false,
     "start_time": "2024-02-25T08:45:31.687774",
     "status": "completed"
    },
    "tags": []
   },
   "source": [
    "## VADER METHOD"
   ]
  },
  {
   "cell_type": "markdown",
   "id": "73575aec",
   "metadata": {
    "papermill": {
     "duration": 0.003877,
     "end_time": "2024-02-25T08:45:31.699809",
     "exception": false,
     "start_time": "2024-02-25T08:45:31.695932",
     "status": "completed"
    },
    "tags": []
   },
   "source": [
    "## dOES NOT ACCOUNT FOR RELATIONSHIP BETWEEN WORDS"
   ]
  },
  {
   "cell_type": "code",
   "execution_count": null,
   "id": "705eece1",
   "metadata": {
    "papermill": {
     "duration": 0.003902,
     "end_time": "2024-02-25T08:45:31.707914",
     "exception": false,
     "start_time": "2024-02-25T08:45:31.704012",
     "status": "completed"
    },
    "tags": []
   },
   "outputs": [],
   "source": []
  }
 ],
 "metadata": {
  "kaggle": {
   "accelerator": "none",
   "dataSources": [
    {
     "datasetId": 18,
     "sourceId": 2157,
     "sourceType": "datasetVersion"
    }
   ],
   "dockerImageVersionId": 30646,
   "isGpuEnabled": false,
   "isInternetEnabled": false,
   "language": "python",
   "sourceType": "notebook"
  },
  "kernelspec": {
   "display_name": "Python 3",
   "language": "python",
   "name": "python3"
  },
  "language_info": {
   "codemirror_mode": {
    "name": "ipython",
    "version": 3
   },
   "file_extension": ".py",
   "mimetype": "text/x-python",
   "name": "python",
   "nbconvert_exporter": "python",
   "pygments_lexer": "ipython3",
   "version": "3.10.13"
  },
  "papermill": {
   "default_parameters": {},
   "duration": 14.150061,
   "end_time": "2024-02-25T08:45:32.433614",
   "environment_variables": {},
   "exception": null,
   "input_path": "__notebook__.ipynb",
   "output_path": "__notebook__.ipynb",
   "parameters": {},
   "start_time": "2024-02-25T08:45:18.283553",
   "version": "2.5.0"
  }
 },
 "nbformat": 4,
 "nbformat_minor": 5
}
