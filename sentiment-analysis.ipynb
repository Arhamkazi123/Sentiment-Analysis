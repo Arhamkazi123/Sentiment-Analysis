{
 "cells": [
  {
   "cell_type": "code",
   "execution_count": 1,
   "id": "29bdddbd",
   "metadata": {
    "_cell_guid": "b1076dfc-b9ad-4769-8c92-a6c4dae69d19",
    "_uuid": "8f2839f25d086af736a60e9eeb907d3b93b6e0e5",
    "execution": {
     "iopub.execute_input": "2024-02-25T12:13:16.978927Z",
     "iopub.status.busy": "2024-02-25T12:13:16.978462Z",
     "iopub.status.idle": "2024-02-25T12:13:20.261416Z",
     "shell.execute_reply": "2024-02-25T12:13:20.260328Z"
    },
    "papermill": {
     "duration": 3.295008,
     "end_time": "2024-02-25T12:13:20.264352",
     "exception": false,
     "start_time": "2024-02-25T12:13:16.969344",
     "status": "completed"
    },
    "tags": []
   },
   "outputs": [],
   "source": [
    "import pandas as pd\n",
    "import matplotlib.pyplot as plt\n",
    "import seaborn as sns\n",
    "import nltk"
   ]
  },
  {
   "cell_type": "code",
   "execution_count": 2,
   "id": "be939176",
   "metadata": {
    "execution": {
     "iopub.execute_input": "2024-02-25T12:13:20.279316Z",
     "iopub.status.busy": "2024-02-25T12:13:20.278563Z",
     "iopub.status.idle": "2024-02-25T12:13:31.011731Z",
     "shell.execute_reply": "2024-02-25T12:13:31.010480Z"
    },
    "papermill": {
     "duration": 10.743157,
     "end_time": "2024-02-25T12:13:31.014360",
     "exception": false,
     "start_time": "2024-02-25T12:13:20.271203",
     "status": "completed"
    },
    "tags": []
   },
   "outputs": [
    {
     "data": {
      "text/html": [
       "<div>\n",
       "<style scoped>\n",
       "    .dataframe tbody tr th:only-of-type {\n",
       "        vertical-align: middle;\n",
       "    }\n",
       "\n",
       "    .dataframe tbody tr th {\n",
       "        vertical-align: top;\n",
       "    }\n",
       "\n",
       "    .dataframe thead th {\n",
       "        text-align: right;\n",
       "    }\n",
       "</style>\n",
       "<table border=\"1\" class=\"dataframe\">\n",
       "  <thead>\n",
       "    <tr style=\"text-align: right;\">\n",
       "      <th></th>\n",
       "      <th>Id</th>\n",
       "      <th>ProductId</th>\n",
       "      <th>UserId</th>\n",
       "      <th>ProfileName</th>\n",
       "      <th>HelpfulnessNumerator</th>\n",
       "      <th>HelpfulnessDenominator</th>\n",
       "      <th>Score</th>\n",
       "      <th>Time</th>\n",
       "      <th>Summary</th>\n",
       "      <th>Text</th>\n",
       "    </tr>\n",
       "  </thead>\n",
       "  <tbody>\n",
       "    <tr>\n",
       "      <th>0</th>\n",
       "      <td>1</td>\n",
       "      <td>B001E4KFG0</td>\n",
       "      <td>A3SGXH7AUHU8GW</td>\n",
       "      <td>delmartian</td>\n",
       "      <td>1</td>\n",
       "      <td>1</td>\n",
       "      <td>5</td>\n",
       "      <td>1303862400</td>\n",
       "      <td>Good Quality Dog Food</td>\n",
       "      <td>I have bought several of the Vitality canned d...</td>\n",
       "    </tr>\n",
       "    <tr>\n",
       "      <th>1</th>\n",
       "      <td>2</td>\n",
       "      <td>B00813GRG4</td>\n",
       "      <td>A1D87F6ZCVE5NK</td>\n",
       "      <td>dll pa</td>\n",
       "      <td>0</td>\n",
       "      <td>0</td>\n",
       "      <td>1</td>\n",
       "      <td>1346976000</td>\n",
       "      <td>Not as Advertised</td>\n",
       "      <td>Product arrived labeled as Jumbo Salted Peanut...</td>\n",
       "    </tr>\n",
       "    <tr>\n",
       "      <th>2</th>\n",
       "      <td>3</td>\n",
       "      <td>B000LQOCH0</td>\n",
       "      <td>ABXLMWJIXXAIN</td>\n",
       "      <td>Natalia Corres \"Natalia Corres\"</td>\n",
       "      <td>1</td>\n",
       "      <td>1</td>\n",
       "      <td>4</td>\n",
       "      <td>1219017600</td>\n",
       "      <td>\"Delight\" says it all</td>\n",
       "      <td>This is a confection that has been around a fe...</td>\n",
       "    </tr>\n",
       "    <tr>\n",
       "      <th>3</th>\n",
       "      <td>4</td>\n",
       "      <td>B000UA0QIQ</td>\n",
       "      <td>A395BORC6FGVXV</td>\n",
       "      <td>Karl</td>\n",
       "      <td>3</td>\n",
       "      <td>3</td>\n",
       "      <td>2</td>\n",
       "      <td>1307923200</td>\n",
       "      <td>Cough Medicine</td>\n",
       "      <td>If you are looking for the secret ingredient i...</td>\n",
       "    </tr>\n",
       "    <tr>\n",
       "      <th>4</th>\n",
       "      <td>5</td>\n",
       "      <td>B006K2ZZ7K</td>\n",
       "      <td>A1UQRSCLF8GW1T</td>\n",
       "      <td>Michael D. Bigham \"M. Wassir\"</td>\n",
       "      <td>0</td>\n",
       "      <td>0</td>\n",
       "      <td>5</td>\n",
       "      <td>1350777600</td>\n",
       "      <td>Great taffy</td>\n",
       "      <td>Great taffy at a great price.  There was a wid...</td>\n",
       "    </tr>\n",
       "    <tr>\n",
       "      <th>5</th>\n",
       "      <td>6</td>\n",
       "      <td>B006K2ZZ7K</td>\n",
       "      <td>ADT0SRK1MGOEU</td>\n",
       "      <td>Twoapennything</td>\n",
       "      <td>0</td>\n",
       "      <td>0</td>\n",
       "      <td>4</td>\n",
       "      <td>1342051200</td>\n",
       "      <td>Nice Taffy</td>\n",
       "      <td>I got a wild hair for taffy and ordered this f...</td>\n",
       "    </tr>\n",
       "    <tr>\n",
       "      <th>6</th>\n",
       "      <td>7</td>\n",
       "      <td>B006K2ZZ7K</td>\n",
       "      <td>A1SP2KVKFXXRU1</td>\n",
       "      <td>David C. Sullivan</td>\n",
       "      <td>0</td>\n",
       "      <td>0</td>\n",
       "      <td>5</td>\n",
       "      <td>1340150400</td>\n",
       "      <td>Great!  Just as good as the expensive brands!</td>\n",
       "      <td>This saltwater taffy had great flavors and was...</td>\n",
       "    </tr>\n",
       "  </tbody>\n",
       "</table>\n",
       "</div>"
      ],
      "text/plain": [
       "   Id   ProductId          UserId                      ProfileName  \\\n",
       "0   1  B001E4KFG0  A3SGXH7AUHU8GW                       delmartian   \n",
       "1   2  B00813GRG4  A1D87F6ZCVE5NK                           dll pa   \n",
       "2   3  B000LQOCH0   ABXLMWJIXXAIN  Natalia Corres \"Natalia Corres\"   \n",
       "3   4  B000UA0QIQ  A395BORC6FGVXV                             Karl   \n",
       "4   5  B006K2ZZ7K  A1UQRSCLF8GW1T    Michael D. Bigham \"M. Wassir\"   \n",
       "5   6  B006K2ZZ7K   ADT0SRK1MGOEU                   Twoapennything   \n",
       "6   7  B006K2ZZ7K  A1SP2KVKFXXRU1                David C. Sullivan   \n",
       "\n",
       "   HelpfulnessNumerator  HelpfulnessDenominator  Score        Time  \\\n",
       "0                     1                       1      5  1303862400   \n",
       "1                     0                       0      1  1346976000   \n",
       "2                     1                       1      4  1219017600   \n",
       "3                     3                       3      2  1307923200   \n",
       "4                     0                       0      5  1350777600   \n",
       "5                     0                       0      4  1342051200   \n",
       "6                     0                       0      5  1340150400   \n",
       "\n",
       "                                         Summary  \\\n",
       "0                          Good Quality Dog Food   \n",
       "1                              Not as Advertised   \n",
       "2                          \"Delight\" says it all   \n",
       "3                                 Cough Medicine   \n",
       "4                                    Great taffy   \n",
       "5                                     Nice Taffy   \n",
       "6  Great!  Just as good as the expensive brands!   \n",
       "\n",
       "                                                Text  \n",
       "0  I have bought several of the Vitality canned d...  \n",
       "1  Product arrived labeled as Jumbo Salted Peanut...  \n",
       "2  This is a confection that has been around a fe...  \n",
       "3  If you are looking for the secret ingredient i...  \n",
       "4  Great taffy at a great price.  There was a wid...  \n",
       "5  I got a wild hair for taffy and ordered this f...  \n",
       "6  This saltwater taffy had great flavors and was...  "
      ]
     },
     "execution_count": 2,
     "metadata": {},
     "output_type": "execute_result"
    }
   ],
   "source": [
    "df=pd.read_csv(\"/kaggle/input/amazon-fine-food-reviews/Reviews.csv\")\n",
    "df.head(7)\n"
   ]
  },
  {
   "cell_type": "markdown",
   "id": "9ed3707d",
   "metadata": {
    "papermill": {
     "duration": 0.006657,
     "end_time": "2024-02-25T12:13:31.028260",
     "exception": false,
     "start_time": "2024-02-25T12:13:31.021603",
     "status": "completed"
    },
    "tags": []
   },
   "source": [
    "\n",
    "## Exploring texts column"
   ]
  },
  {
   "cell_type": "code",
   "execution_count": 3,
   "id": "cc3df1a1",
   "metadata": {
    "execution": {
     "iopub.execute_input": "2024-02-25T12:13:31.044025Z",
     "iopub.status.busy": "2024-02-25T12:13:31.043618Z",
     "iopub.status.idle": "2024-02-25T12:13:31.052034Z",
     "shell.execute_reply": "2024-02-25T12:13:31.050938Z"
    },
    "papermill": {
     "duration": 0.019372,
     "end_time": "2024-02-25T12:13:31.054646",
     "exception": false,
     "start_time": "2024-02-25T12:13:31.035274",
     "status": "completed"
    },
    "tags": []
   },
   "outputs": [
    {
     "data": {
      "text/plain": [
       "'I have bought several of the Vitality canned dog food products and have found them all to be of good quality. The product looks more like a stew than a processed meat and it smells better. My Labrador is finicky and she appreciates this product better than  most.'"
      ]
     },
     "execution_count": 3,
     "metadata": {},
     "output_type": "execute_result"
    }
   ],
   "source": [
    "df['Text'][0]"
   ]
  },
  {
   "cell_type": "markdown",
   "id": "24c6ea99",
   "metadata": {
    "papermill": {
     "duration": 0.007209,
     "end_time": "2024-02-25T12:13:31.069101",
     "exception": false,
     "start_time": "2024-02-25T12:13:31.061892",
     "status": "completed"
    },
    "tags": []
   },
   "source": [
    "## QUICK EDA"
   ]
  },
  {
   "cell_type": "code",
   "execution_count": 4,
   "id": "c8a8d044",
   "metadata": {
    "execution": {
     "iopub.execute_input": "2024-02-25T12:13:31.085015Z",
     "iopub.status.busy": "2024-02-25T12:13:31.084621Z",
     "iopub.status.idle": "2024-02-25T12:13:31.414150Z",
     "shell.execute_reply": "2024-02-25T12:13:31.412917Z"
    },
    "papermill": {
     "duration": 0.340518,
     "end_time": "2024-02-25T12:13:31.416692",
     "exception": false,
     "start_time": "2024-02-25T12:13:31.076174",
     "status": "completed"
    },
    "tags": []
   },
   "outputs": [
    {
     "data": {
      "text/plain": [
       "Text(0, 0.5, 'Number of people')"
      ]
     },
     "execution_count": 4,
     "metadata": {},
     "output_type": "execute_result"
    },
    {
     "data": {
      "image/png": "[encoded data removed]",
      "text/plain": [
       "<Figure size 1000x500 with 1 Axes>"
      ]
     },
     "metadata": {},
     "output_type": "display_data"
    }
   ],
   "source": [
    "ax=df['Score'].value_counts().sort_index().plot(kind=\"bar\",title=\"reviews according to stars\",figsize=(10,5))\n",
    "ax.set_xlabel(\"Stars\")\n",
    "ax.set_ylabel(\"Number of people\")"
   ]
  },
  {
   "cell_type": "markdown",
   "id": "e9a134e9",
   "metadata": {
    "papermill": {
     "duration": 0.00755,
     "end_time": "2024-02-25T12:13:31.432283",
     "exception": false,
     "start_time": "2024-02-25T12:13:31.424733",
     "status": "completed"
    },
    "tags": []
   },
   "source": [
    "## Basic nltk"
   ]
  },
  {
   "cell_type": "code",
   "execution_count": 5,
   "id": "db294683",
   "metadata": {
    "execution": {
     "iopub.execute_input": "2024-02-25T12:13:31.449980Z",
     "iopub.status.busy": "2024-02-25T12:13:31.449125Z",
     "iopub.status.idle": "2024-02-25T12:13:31.455576Z",
     "shell.execute_reply": "2024-02-25T12:13:31.454605Z"
    },
    "papermill": {
     "duration": 0.017768,
     "end_time": "2024-02-25T12:13:31.457814",
     "exception": false,
     "start_time": "2024-02-25T12:13:31.440046",
     "status": "completed"
    },
    "tags": []
   },
   "outputs": [
    {
     "name": "stdout",
     "output_type": "stream",
     "text": [
      "I have bought several of the Vitality canned dog food products and have found them all to be of good quality. The product looks more like a stew than a processed meat and it smells better. My Labrador is finicky and she appreciates this product better than  most.\n"
     ]
    }
   ],
   "source": [
    "example=df['Text'][0]\n",
    "print(example)"
   ]
  },
  {
   "cell_type": "code",
   "execution_count": 6,
   "id": "205aa346",
   "metadata": {
    "execution": {
     "iopub.execute_input": "2024-02-25T12:13:31.475156Z",
     "iopub.status.busy": "2024-02-25T12:13:31.474780Z",
     "iopub.status.idle": "2024-02-25T12:13:31.497149Z",
     "shell.execute_reply": "2024-02-25T12:13:31.495868Z"
    },
    "papermill": {
     "duration": 0.033947,
     "end_time": "2024-02-25T12:13:31.499559",
     "exception": false,
     "start_time": "2024-02-25T12:13:31.465612",
     "status": "completed"
    },
    "tags": []
   },
   "outputs": [
    {
     "name": "stdout",
     "output_type": "stream",
     "text": [
      "['I', 'have', 'bought', 'several', 'of', 'the', 'Vitality', 'canned', 'dog', 'food', 'products', 'and', 'have', 'found', 'them', 'all', 'to', 'be', 'of', 'good', 'quality', '.', 'The', 'product', 'looks', 'more', 'like', 'a', 'stew', 'than', 'a', 'processed', 'meat', 'and', 'it', 'smells', 'better', '.', 'My', 'Labrador', 'is', 'finicky', 'and', 'she', 'appreciates', 'this', 'product', 'better', 'than', 'most', '.']\n"
     ]
    }
   ],
   "source": [
    "tokens=nltk.word_tokenize(example)\n",
    "print(tokens)"
   ]
  },
  {
   "cell_type": "code",
   "execution_count": 7,
   "id": "9fd39b6f",
   "metadata": {
    "execution": {
     "iopub.execute_input": "2024-02-25T12:13:31.517896Z",
     "iopub.status.busy": "2024-02-25T12:13:31.517107Z",
     "iopub.status.idle": "2024-02-25T12:13:31.673738Z",
     "shell.execute_reply": "2024-02-25T12:13:31.672370Z"
    },
    "papermill": {
     "duration": 0.1684,
     "end_time": "2024-02-25T12:13:31.676118",
     "exception": false,
     "start_time": "2024-02-25T12:13:31.507718",
     "status": "completed"
    },
    "tags": []
   },
   "outputs": [
    {
     "name": "stdout",
     "output_type": "stream",
     "text": [
      "[('I', 'PRP'), ('have', 'VBP'), ('bought', 'VBN'), ('several', 'JJ'), ('of', 'IN'), ('the', 'DT'), ('Vitality', 'NNP'), ('canned', 'VBD'), ('dog', 'RP'), ('food', 'NN')]\n"
     ]
    }
   ],
   "source": [
    "#  first 10\n",
    "tagged=nltk.pos_tag(tokens)[:10] \n",
    "print(tagged)"
   ]
  },
  {
   "cell_type": "code",
   "execution_count": 8,
   "id": "a7b4681e",
   "metadata": {
    "execution": {
     "iopub.execute_input": "2024-02-25T12:13:31.695688Z",
     "iopub.status.busy": "2024-02-25T12:13:31.695258Z",
     "iopub.status.idle": "2024-02-25T12:13:31.832739Z",
     "shell.execute_reply": "2024-02-25T12:13:31.831894Z"
    },
    "papermill": {
     "duration": 0.151028,
     "end_time": "2024-02-25T12:13:31.835330",
     "exception": false,
     "start_time": "2024-02-25T12:13:31.684302",
     "status": "completed"
    },
    "tags": []
   },
   "outputs": [
    {
     "name": "stdout",
     "output_type": "stream",
     "text": [
      "(S\n",
      "  I/PRP\n",
      "  have/VBP\n",
      "  bought/VBN\n",
      "  several/JJ\n",
      "  of/IN\n",
      "  the/DT\n",
      "  (ORGANIZATION Vitality/NNP)\n",
      "  canned/VBD\n",
      "  dog/RP\n",
      "  food/NN)\n"
     ]
    }
   ],
   "source": [
    "chunktext=nltk.chunk.ne_chunk(tagged)\n",
    "chunktext.pprint()"
   ]
  },
  {
   "cell_type": "markdown",
   "id": "b8f84d43",
   "metadata": {
    "papermill": {
     "duration": 0.00809,
     "end_time": "2024-02-25T12:13:31.851731",
     "exception": false,
     "start_time": "2024-02-25T12:13:31.843641",
     "status": "completed"
    },
    "tags": []
   },
   "source": [
    "## VADER METHOD"
   ]
  },
  {
   "cell_type": "markdown",
   "id": "38d6acf6",
   "metadata": {
    "papermill": {
     "duration": 0.007847,
     "end_time": "2024-02-25T12:13:31.867646",
     "exception": false,
     "start_time": "2024-02-25T12:13:31.859799",
     "status": "completed"
    },
    "tags": []
   },
   "source": [
    "## DOES NOT ACCOUNT FOR RELATIONSHIP BETWEEN WORDS"
   ]
  },
  {
   "cell_type": "code",
   "execution_count": 9,
   "id": "f5a122e9",
   "metadata": {
    "execution": {
     "iopub.execute_input": "2024-02-25T12:13:31.886364Z",
     "iopub.status.busy": "2024-02-25T12:13:31.885620Z",
     "iopub.status.idle": "2024-02-25T12:13:31.924998Z",
     "shell.execute_reply": "2024-02-25T12:13:31.923831Z"
    },
    "papermill": {
     "duration": 0.051131,
     "end_time": "2024-02-25T12:13:31.927272",
     "exception": false,
     "start_time": "2024-02-25T12:13:31.876141",
     "status": "completed"
    },
    "tags": []
   },
   "outputs": [
    {
     "name": "stderr",
     "output_type": "stream",
     "text": [
      "/opt/conda/lib/python3.10/site-packages/nltk/twitter/__init__.py:20: UserWarning: The twython library has not been installed. Some functionality from the twitter package will not be available.\n",
      "  warnings.warn(\"The twython library has not been installed. \"\n"
     ]
    },
    {
     "data": {
      "text/plain": [
       "{'neg': 0.0, 'neu': 0.323, 'pos': 0.677, 'compound': 0.6369}"
      ]
     },
     "execution_count": 9,
     "metadata": {},
     "output_type": "execute_result"
    }
   ],
   "source": [
    "from nltk.sentiment import SentimentIntensityAnalyzer\n",
    "sia=SentimentIntensityAnalyzer()\n",
    "\n",
    "sia.polarity_scores(\"I love eating mangoes\")\n",
    "\n",
    "#compound score above 0 indicates positive expressions\n"
   ]
  },
  {
   "cell_type": "code",
   "execution_count": 10,
   "id": "6f918c9e",
   "metadata": {
    "execution": {
     "iopub.execute_input": "2024-02-25T12:13:31.946846Z",
     "iopub.status.busy": "2024-02-25T12:13:31.945958Z",
     "iopub.status.idle": "2024-02-25T12:13:32.077352Z",
     "shell.execute_reply": "2024-02-25T12:13:32.076120Z"
    },
    "papermill": {
     "duration": 0.144077,
     "end_time": "2024-02-25T12:13:32.080170",
     "exception": false,
     "start_time": "2024-02-25T12:13:31.936093",
     "status": "completed"
    },
    "tags": []
   },
   "outputs": [],
   "source": [
    "#taking only the first 100 values\n",
    "dfnew=df.head(100)\n",
    "\n",
    "newdic={}\n",
    "for i, row in dfnew.iterrows():\n",
    "    text = row['Text']\n",
    "    myid = row['Id']\n",
    "    newdic[myid] = sia.polarity_scores(text)\n"
   ]
  },
  {
   "cell_type": "code",
   "execution_count": 11,
   "id": "c7b8e459",
   "metadata": {
    "execution": {
     "iopub.execute_input": "2024-02-25T12:13:32.099032Z",
     "iopub.status.busy": "2024-02-25T12:13:32.098637Z",
     "iopub.status.idle": "2024-02-25T12:13:32.104653Z",
     "shell.execute_reply": "2024-02-25T12:13:32.103484Z"
    },
    "papermill": {
     "duration": 0.018686,
     "end_time": "2024-02-25T12:13:32.107435",
     "exception": false,
     "start_time": "2024-02-25T12:13:32.088749",
     "status": "completed"
    },
    "tags": []
   },
   "outputs": [
    {
     "name": "stdout",
     "output_type": "stream",
     "text": [
      "{1: {'neg': 0.0, 'neu': 0.695, 'pos': 0.305, 'compound': 0.9441}, 2: {'neg': 0.079, 'neu': 0.853, 'pos': 0.068, 'compound': -0.1027}, 3: {'neg': 0.091, 'neu': 0.754, 'pos': 0.155, 'compound': 0.8265}, 4: {'neg': 0.0, 'neu': 1.0, 'pos': 0.0, 'compound': 0.0}, 5: {'neg': 0.0, 'neu': 0.552, 'pos': 0.448, 'compound': 0.9468}, 6: {'neg': 0.029, 'neu': 0.809, 'pos': 0.163, 'compound': 0.883}, 7: {'neg': 0.034, 'neu': 0.693, 'pos': 0.273, 'compound': 0.9346}, 8: {'neg': 0.0, 'neu': 0.52, 'pos': 0.48, 'compound': 0.9487}, 9: {'neg': 0.0, 'neu': 0.851, 'pos': 0.149, 'compound': 0.6369}, 10: {'neg': 0.0, 'neu': 0.705, 'pos': 0.295, 'compound': 0.8313}, 11: {'neg': 0.017, 'neu': 0.846, 'pos': 0.137, 'compound': 0.9746}, 12: {'neg': 0.113, 'neu': 0.887, 'pos': 0.0, 'compound': -0.7579}, 13: {'neg': 0.031, 'neu': 0.923, 'pos': 0.046, 'compound': 0.296}, 14: {'neg': 0.0, 'neu': 0.355, 'pos': 0.645, 'compound': 0.9466}, 15: {'neg': 0.104, 'neu': 0.632, 'pos': 0.264, 'compound': 0.6486}, 16: {'neg': 0.0, 'neu': 0.861, 'pos': 0.139, 'compound': 0.5719}, 17: {'neg': 0.097, 'neu': 0.694, 'pos': 0.209, 'compound': 0.7481}, 18: {'neg': 0.0, 'neu': 0.61, 'pos': 0.39, 'compound': 0.8883}, 19: {'neg': 0.012, 'neu': 0.885, 'pos': 0.103, 'compound': 0.8957}, 20: {'neg': 0.0, 'neu': 0.863, 'pos': 0.137, 'compound': 0.6077}, 21: {'neg': 0.0, 'neu': 0.865, 'pos': 0.135, 'compound': 0.6249}, 22: {'neg': 0.0, 'neu': 0.739, 'pos': 0.261, 'compound': 0.9153}, 23: {'neg': 0.0, 'neu': 0.768, 'pos': 0.232, 'compound': 0.7687}, 24: {'neg': 0.085, 'neu': 0.771, 'pos': 0.143, 'compound': 0.2617}, 25: {'neg': 0.038, 'neu': 0.895, 'pos': 0.068, 'compound': 0.3939}, 26: {'neg': 0.0, 'neu': 1.0, 'pos': 0.0, 'compound': 0.0}, 27: {'neg': 0.128, 'neu': 0.872, 'pos': 0.0, 'compound': -0.296}, 28: {'neg': 0.04, 'neu': 0.808, 'pos': 0.152, 'compound': 0.5956}, 29: {'neg': 0.022, 'neu': 0.669, 'pos': 0.309, 'compound': 0.9913}, 30: {'neg': 0.017, 'neu': 0.846, 'pos': 0.137, 'compound': 0.9746}, 31: {'neg': 0.041, 'neu': 0.692, 'pos': 0.267, 'compound': 0.9713}, 32: {'neg': 0.0, 'neu': 0.484, 'pos': 0.516, 'compound': 0.9153}, 33: {'neg': 0.069, 'neu': 0.839, 'pos': 0.092, 'compound': 0.7103}, 34: {'neg': 0.024, 'neu': 0.72, 'pos': 0.256, 'compound': 0.9779}, 35: {'neg': 0.0, 'neu': 0.874, 'pos': 0.126, 'compound': 0.9091}, 36: {'neg': 0.024, 'neu': 0.821, 'pos': 0.155, 'compound': 0.7622}, 37: {'neg': 0.0, 'neu': 0.754, 'pos': 0.246, 'compound': 0.9196}, 38: {'neg': 0.0, 'neu': 0.938, 'pos': 0.062, 'compound': 0.4457}, 39: {'neg': 0.028, 'neu': 0.842, 'pos': 0.13, 'compound': 0.891}, 40: {'neg': 0.0, 'neu': 0.856, 'pos': 0.144, 'compound': 0.8114}, 41: {'neg': 0.033, 'neu': 0.82, 'pos': 0.147, 'compound': 0.9301}, 42: {'neg': 0.03, 'neu': 0.848, 'pos': 0.122, 'compound': 0.9435}, 43: {'neg': 0.0, 'neu': 0.588, 'pos': 0.412, 'compound': 0.9441}, 44: {'neg': 0.0, 'neu': 0.685, 'pos': 0.315, 'compound': 0.9161}, 45: {'neg': 0.031, 'neu': 0.778, 'pos': 0.191, 'compound': 0.8421}, 46: {'neg': 0.0, 'neu': 1.0, 'pos': 0.0, 'compound': 0.0}, 47: {'neg': 0.0, 'neu': 0.737, 'pos': 0.263, 'compound': 0.9169}, 48: {'neg': 0.0, 'neu': 0.868, 'pos': 0.132, 'compound': 0.4404}, 49: {'neg': 0.0, 'neu': 0.821, 'pos': 0.179, 'compound': 0.747}, 50: {'neg': 0.056, 'neu': 0.865, 'pos': 0.079, 'compound': 0.2363}, 51: {'neg': 0.22, 'neu': 0.78, 'pos': 0.0, 'compound': -0.5448}, 52: {'neg': 0.047, 'neu': 0.735, 'pos': 0.218, 'compound': 0.9194}, 53: {'neg': 0.09, 'neu': 0.858, 'pos': 0.052, 'compound': -0.8259}, 54: {'neg': 0.075, 'neu': 0.925, 'pos': 0.0, 'compound': -0.3612}, 55: {'neg': 0.0, 'neu': 0.857, 'pos': 0.143, 'compound': 0.8761}, 56: {'neg': 0.071, 'neu': 0.708, 'pos': 0.221, 'compound': 0.8908}, 57: {'neg': 0.029, 'neu': 0.694, 'pos': 0.277, 'compound': 0.908}, 58: {'neg': 0.0, 'neu': 0.701, 'pos': 0.299, 'compound': 0.91}, 59: {'neg': 0.0, 'neu': 0.611, 'pos': 0.389, 'compound': 0.9323}, 60: {'neg': 0.0, 'neu': 0.638, 'pos': 0.362, 'compound': 0.8807}, 61: {'neg': 0.0, 'neu': 0.9, 'pos': 0.1, 'compound': 0.4404}, 62: {'neg': 0.0, 'neu': 0.741, 'pos': 0.259, 'compound': 0.8442}, 63: {'neg': 0.0, 'neu': 1.0, 'pos': 0.0, 'compound': 0.0}, 64: {'neg': 0.055, 'neu': 0.765, 'pos': 0.179, 'compound': 0.9817}, 65: {'neg': 0.046, 'neu': 0.75, 'pos': 0.205, 'compound': 0.8674}, 66: {'neg': 0.04, 'neu': 0.822, 'pos': 0.138, 'compound': 0.5165}, 67: {'neg': 0.057, 'neu': 0.869, 'pos': 0.073, 'compound': 0.492}, 68: {'neg': 0.183, 'neu': 0.776, 'pos': 0.041, 'compound': -0.9116}, 69: {'neg': 0.141, 'neu': 0.653, 'pos': 0.207, 'compound': 0.5171}, 70: {'neg': 0.344, 'neu': 0.52, 'pos': 0.136, 'compound': -0.7345}, 71: {'neg': 0.036, 'neu': 0.916, 'pos': 0.048, 'compound': 0.2228}, 72: {'neg': 0.078, 'neu': 0.706, 'pos': 0.216, 'compound': 0.9695}, 73: {'neg': 0.025, 'neu': 0.653, 'pos': 0.323, 'compound': 0.9787}, 74: {'neg': 0.093, 'neu': 0.762, 'pos': 0.144, 'compound': 0.9665}, 75: {'neg': 0.0, 'neu': 0.872, 'pos': 0.128, 'compound': 0.2263}, 76: {'neg': 0.106, 'neu': 0.768, 'pos': 0.126, 'compound': 0.1098}, 77: {'neg': 0.019, 'neu': 0.898, 'pos': 0.083, 'compound': 0.5647}, 78: {'neg': 0.034, 'neu': 0.798, 'pos': 0.168, 'compound': 0.8303}, 79: {'neg': 0.0, 'neu': 0.763, 'pos': 0.237, 'compound': 0.7814}, 80: {'neg': 0.087, 'neu': 0.589, 'pos': 0.324, 'compound': 0.8636}, 81: {'neg': 0.0, 'neu': 0.723, 'pos': 0.277, 'compound': 0.9098}, 82: {'neg': 0.0, 'neu': 0.663, 'pos': 0.337, 'compound': 0.9041}, 83: {'neg': 0.04, 'neu': 0.794, 'pos': 0.165, 'compound': 0.9957}, 84: {'neg': 0.055, 'neu': 0.767, 'pos': 0.178, 'compound': 0.8642}, 85: {'neg': 0.109, 'neu': 0.676, 'pos': 0.214, 'compound': 0.8431}, 86: {'neg': 0.035, 'neu': 0.698, 'pos': 0.267, 'compound': 0.9487}, 87: {'neg': 0.019, 'neu': 0.855, 'pos': 0.126, 'compound': 0.8797}, 88: {'neg': 0.05, 'neu': 0.735, 'pos': 0.215, 'compound': 0.7424}, 89: {'neg': 0.048, 'neu': 0.762, 'pos': 0.19, 'compound': 0.9716}, 90: {'neg': 0.029, 'neu': 0.645, 'pos': 0.326, 'compound': 0.9554}, 91: {'neg': 0.0, 'neu': 0.833, 'pos': 0.167, 'compound': 0.7351}, 92: {'neg': 0.0, 'neu': 0.837, 'pos': 0.163, 'compound': 0.6249}, 93: {'neg': 0.069, 'neu': 0.663, 'pos': 0.268, 'compound': 0.8255}, 94: {'neg': 0.01, 'neu': 0.781, 'pos': 0.208, 'compound': 0.9882}, 95: {'neg': 0.0, 'neu': 1.0, 'pos': 0.0, 'compound': 0.0}, 96: {'neg': 0.031, 'neu': 0.732, 'pos': 0.237, 'compound': 0.9273}, 97: {'neg': 0.0, 'neu': 0.818, 'pos': 0.182, 'compound': 0.982}, 98: {'neg': 0.053, 'neu': 0.793, 'pos': 0.154, 'compound': 0.7729}, 99: {'neg': 0.024, 'neu': 0.91, 'pos': 0.066, 'compound': 0.5106}, 100: {'neg': 0.173, 'neu': 0.735, 'pos': 0.092, 'compound': -0.5267}}\n"
     ]
    }
   ],
   "source": [
    "print(newdic)"
   ]
  },
  {
   "cell_type": "code",
   "execution_count": 12,
   "id": "52c3f5d8",
   "metadata": {
    "execution": {
     "iopub.execute_input": "2024-02-25T12:13:32.126503Z",
     "iopub.status.busy": "2024-02-25T12:13:32.126144Z",
     "iopub.status.idle": "2024-02-25T12:13:32.143885Z",
     "shell.execute_reply": "2024-02-25T12:13:32.142847Z"
    },
    "papermill": {
     "duration": 0.030648,
     "end_time": "2024-02-25T12:13:32.146615",
     "exception": false,
     "start_time": "2024-02-25T12:13:32.115967",
     "status": "completed"
    },
    "tags": []
   },
   "outputs": [],
   "source": [
    "vaders=pd.DataFrame(newdic).T\n",
    "#good practice\n",
    "vaders=vaders.reset_index().rename(columns={'index':'Id'})\n",
    "vaders=vaders.merge(dfnew,how='left')\n",
    "\n",
    "\n",
    "\n"
   ]
  },
  {
   "cell_type": "code",
   "execution_count": 13,
   "id": "b38d7e08",
   "metadata": {
    "execution": {
     "iopub.execute_input": "2024-02-25T12:13:32.165804Z",
     "iopub.status.busy": "2024-02-25T12:13:32.165407Z",
     "iopub.status.idle": "2024-02-25T12:13:32.190971Z",
     "shell.execute_reply": "2024-02-25T12:13:32.189768Z"
    },
    "papermill": {
     "duration": 0.038108,
     "end_time": "2024-02-25T12:13:32.193399",
     "exception": false,
     "start_time": "2024-02-25T12:13:32.155291",
     "status": "completed"
    },
    "tags": []
   },
   "outputs": [
    {
     "data": {
      "text/html": [
       "<div>\n",
       "<style scoped>\n",
       "    .dataframe tbody tr th:only-of-type {\n",
       "        vertical-align: middle;\n",
       "    }\n",
       "\n",
       "    .dataframe tbody tr th {\n",
       "        vertical-align: top;\n",
       "    }\n",
       "\n",
       "    .dataframe thead th {\n",
       "        text-align: right;\n",
       "    }\n",
       "</style>\n",
       "<table border=\"1\" class=\"dataframe\">\n",
       "  <thead>\n",
       "    <tr style=\"text-align: right;\">\n",
       "      <th></th>\n",
       "      <th>Id</th>\n",
       "      <th>neg</th>\n",
       "      <th>neu</th>\n",
       "      <th>pos</th>\n",
       "      <th>compound</th>\n",
       "      <th>ProductId</th>\n",
       "      <th>UserId</th>\n",
       "      <th>ProfileName</th>\n",
       "      <th>HelpfulnessNumerator</th>\n",
       "      <th>HelpfulnessDenominator</th>\n",
       "      <th>Score</th>\n",
       "      <th>Time</th>\n",
       "      <th>Summary</th>\n",
       "      <th>Text</th>\n",
       "    </tr>\n",
       "  </thead>\n",
       "  <tbody>\n",
       "    <tr>\n",
       "      <th>0</th>\n",
       "      <td>1</td>\n",
       "      <td>0.000</td>\n",
       "      <td>0.695</td>\n",
       "      <td>0.305</td>\n",
       "      <td>0.9441</td>\n",
       "      <td>B001E4KFG0</td>\n",
       "      <td>A3SGXH7AUHU8GW</td>\n",
       "      <td>delmartian</td>\n",
       "      <td>1</td>\n",
       "      <td>1</td>\n",
       "      <td>5</td>\n",
       "      <td>1303862400</td>\n",
       "      <td>Good Quality Dog Food</td>\n",
       "      <td>I have bought several of the Vitality canned d...</td>\n",
       "    </tr>\n",
       "    <tr>\n",
       "      <th>1</th>\n",
       "      <td>2</td>\n",
       "      <td>0.079</td>\n",
       "      <td>0.853</td>\n",
       "      <td>0.068</td>\n",
       "      <td>-0.1027</td>\n",
       "      <td>B00813GRG4</td>\n",
       "      <td>A1D87F6ZCVE5NK</td>\n",
       "      <td>dll pa</td>\n",
       "      <td>0</td>\n",
       "      <td>0</td>\n",
       "      <td>1</td>\n",
       "      <td>1346976000</td>\n",
       "      <td>Not as Advertised</td>\n",
       "      <td>Product arrived labeled as Jumbo Salted Peanut...</td>\n",
       "    </tr>\n",
       "    <tr>\n",
       "      <th>2</th>\n",
       "      <td>3</td>\n",
       "      <td>0.091</td>\n",
       "      <td>0.754</td>\n",
       "      <td>0.155</td>\n",
       "      <td>0.8265</td>\n",
       "      <td>B000LQOCH0</td>\n",
       "      <td>ABXLMWJIXXAIN</td>\n",
       "      <td>Natalia Corres \"Natalia Corres\"</td>\n",
       "      <td>1</td>\n",
       "      <td>1</td>\n",
       "      <td>4</td>\n",
       "      <td>1219017600</td>\n",
       "      <td>\"Delight\" says it all</td>\n",
       "      <td>This is a confection that has been around a fe...</td>\n",
       "    </tr>\n",
       "    <tr>\n",
       "      <th>3</th>\n",
       "      <td>4</td>\n",
       "      <td>0.000</td>\n",
       "      <td>1.000</td>\n",
       "      <td>0.000</td>\n",
       "      <td>0.0000</td>\n",
       "      <td>B000UA0QIQ</td>\n",
       "      <td>A395BORC6FGVXV</td>\n",
       "      <td>Karl</td>\n",
       "      <td>3</td>\n",
       "      <td>3</td>\n",
       "      <td>2</td>\n",
       "      <td>1307923200</td>\n",
       "      <td>Cough Medicine</td>\n",
       "      <td>If you are looking for the secret ingredient i...</td>\n",
       "    </tr>\n",
       "    <tr>\n",
       "      <th>4</th>\n",
       "      <td>5</td>\n",
       "      <td>0.000</td>\n",
       "      <td>0.552</td>\n",
       "      <td>0.448</td>\n",
       "      <td>0.9468</td>\n",
       "      <td>B006K2ZZ7K</td>\n",
       "      <td>A1UQRSCLF8GW1T</td>\n",
       "      <td>Michael D. Bigham \"M. Wassir\"</td>\n",
       "      <td>0</td>\n",
       "      <td>0</td>\n",
       "      <td>5</td>\n",
       "      <td>1350777600</td>\n",
       "      <td>Great taffy</td>\n",
       "      <td>Great taffy at a great price.  There was a wid...</td>\n",
       "    </tr>\n",
       "    <tr>\n",
       "      <th>...</th>\n",
       "      <td>...</td>\n",
       "      <td>...</td>\n",
       "      <td>...</td>\n",
       "      <td>...</td>\n",
       "      <td>...</td>\n",
       "      <td>...</td>\n",
       "      <td>...</td>\n",
       "      <td>...</td>\n",
       "      <td>...</td>\n",
       "      <td>...</td>\n",
       "      <td>...</td>\n",
       "      <td>...</td>\n",
       "      <td>...</td>\n",
       "      <td>...</td>\n",
       "    </tr>\n",
       "    <tr>\n",
       "      <th>95</th>\n",
       "      <td>96</td>\n",
       "      <td>0.031</td>\n",
       "      <td>0.732</td>\n",
       "      <td>0.237</td>\n",
       "      <td>0.9273</td>\n",
       "      <td>B0019CW0HE</td>\n",
       "      <td>A1BFNM27629VAV</td>\n",
       "      <td>E. Triebe</td>\n",
       "      <td>0</td>\n",
       "      <td>0</td>\n",
       "      <td>5</td>\n",
       "      <td>1320105600</td>\n",
       "      <td>Good healthy dog food</td>\n",
       "      <td>I've been very pleased with the Natural Balanc...</td>\n",
       "    </tr>\n",
       "    <tr>\n",
       "      <th>96</th>\n",
       "      <td>97</td>\n",
       "      <td>0.000</td>\n",
       "      <td>0.818</td>\n",
       "      <td>0.182</td>\n",
       "      <td>0.9820</td>\n",
       "      <td>B0019CW0HE</td>\n",
       "      <td>A18AAABCIJKC5Q</td>\n",
       "      <td>Rhiever</td>\n",
       "      <td>0</td>\n",
       "      <td>0</td>\n",
       "      <td>5</td>\n",
       "      <td>1303776000</td>\n",
       "      <td>Great dog food</td>\n",
       "      <td>My 1-1/2 year old basenji/jack russell mix lov...</td>\n",
       "    </tr>\n",
       "    <tr>\n",
       "      <th>97</th>\n",
       "      <td>98</td>\n",
       "      <td>0.053</td>\n",
       "      <td>0.793</td>\n",
       "      <td>0.154</td>\n",
       "      <td>0.7729</td>\n",
       "      <td>B0019CW0HE</td>\n",
       "      <td>A3UII2114114PI</td>\n",
       "      <td>FuNky Faja \"SiLkk\"</td>\n",
       "      <td>0</td>\n",
       "      <td>0</td>\n",
       "      <td>5</td>\n",
       "      <td>1297296000</td>\n",
       "      <td>Great allergy sensitive dog food, dogs love it</td>\n",
       "      <td>Our pup has experienced allergies in forms of ...</td>\n",
       "    </tr>\n",
       "    <tr>\n",
       "      <th>98</th>\n",
       "      <td>99</td>\n",
       "      <td>0.024</td>\n",
       "      <td>0.910</td>\n",
       "      <td>0.066</td>\n",
       "      <td>0.5106</td>\n",
       "      <td>B0019CW0HE</td>\n",
       "      <td>ABZ9F0D94YK45</td>\n",
       "      <td>Amazon-tron 3000</td>\n",
       "      <td>0</td>\n",
       "      <td>0</td>\n",
       "      <td>5</td>\n",
       "      <td>1295308800</td>\n",
       "      <td>Perfect for our English Bulldog with Allergies</td>\n",
       "      <td>My English Bulldog had skin allergies the summ...</td>\n",
       "    </tr>\n",
       "    <tr>\n",
       "      <th>99</th>\n",
       "      <td>100</td>\n",
       "      <td>0.173</td>\n",
       "      <td>0.735</td>\n",
       "      <td>0.092</td>\n",
       "      <td>-0.5267</td>\n",
       "      <td>B0019CW0HE</td>\n",
       "      <td>A2P6ACFZ8FTNVV</td>\n",
       "      <td>Melissa Benjamin</td>\n",
       "      <td>0</td>\n",
       "      <td>1</td>\n",
       "      <td>1</td>\n",
       "      <td>1331164800</td>\n",
       "      <td>Bad</td>\n",
       "      <td>I fed this to my Golden Retriever and he hated...</td>\n",
       "    </tr>\n",
       "  </tbody>\n",
       "</table>\n",
       "<p>100 rows × 14 columns</p>\n",
       "</div>"
      ],
      "text/plain": [
       "     Id    neg    neu    pos  compound   ProductId          UserId  \\\n",
       "0     1  0.000  0.695  0.305    0.9441  B001E4KFG0  A3SGXH7AUHU8GW   \n",
       "1     2  0.079  0.853  0.068   -0.1027  B00813GRG4  A1D87F6ZCVE5NK   \n",
       "2     3  0.091  0.754  0.155    0.8265  B000LQOCH0   ABXLMWJIXXAIN   \n",
       "3     4  0.000  1.000  0.000    0.0000  B000UA0QIQ  A395BORC6FGVXV   \n",
       "4     5  0.000  0.552  0.448    0.9468  B006K2ZZ7K  A1UQRSCLF8GW1T   \n",
       "..  ...    ...    ...    ...       ...         ...             ...   \n",
       "95   96  0.031  0.732  0.237    0.9273  B0019CW0HE  A1BFNM27629VAV   \n",
       "96   97  0.000  0.818  0.182    0.9820  B0019CW0HE  A18AAABCIJKC5Q   \n",
       "97   98  0.053  0.793  0.154    0.7729  B0019CW0HE  A3UII2114114PI   \n",
       "98   99  0.024  0.910  0.066    0.5106  B0019CW0HE   ABZ9F0D94YK45   \n",
       "99  100  0.173  0.735  0.092   -0.5267  B0019CW0HE  A2P6ACFZ8FTNVV   \n",
       "\n",
       "                        ProfileName  HelpfulnessNumerator  \\\n",
       "0                        delmartian                     1   \n",
       "1                            dll pa                     0   \n",
       "2   Natalia Corres \"Natalia Corres\"                     1   \n",
       "3                              Karl                     3   \n",
       "4     Michael D. Bigham \"M. Wassir\"                     0   \n",
       "..                              ...                   ...   \n",
       "95                        E. Triebe                     0   \n",
       "96                          Rhiever                     0   \n",
       "97               FuNky Faja \"SiLkk\"                     0   \n",
       "98                 Amazon-tron 3000                     0   \n",
       "99                 Melissa Benjamin                     0   \n",
       "\n",
       "    HelpfulnessDenominator  Score        Time  \\\n",
       "0                        1      5  1303862400   \n",
       "1                        0      1  1346976000   \n",
       "2                        1      4  1219017600   \n",
       "3                        3      2  1307923200   \n",
       "4                        0      5  1350777600   \n",
       "..                     ...    ...         ...   \n",
       "95                       0      5  1320105600   \n",
       "96                       0      5  1303776000   \n",
       "97                       0      5  1297296000   \n",
       "98                       0      5  1295308800   \n",
       "99                       1      1  1331164800   \n",
       "\n",
       "                                           Summary  \\\n",
       "0                            Good Quality Dog Food   \n",
       "1                                Not as Advertised   \n",
       "2                            \"Delight\" says it all   \n",
       "3                                   Cough Medicine   \n",
       "4                                      Great taffy   \n",
       "..                                             ...   \n",
       "95                           Good healthy dog food   \n",
       "96                                  Great dog food   \n",
       "97  Great allergy sensitive dog food, dogs love it   \n",
       "98  Perfect for our English Bulldog with Allergies   \n",
       "99                                             Bad   \n",
       "\n",
       "                                                 Text  \n",
       "0   I have bought several of the Vitality canned d...  \n",
       "1   Product arrived labeled as Jumbo Salted Peanut...  \n",
       "2   This is a confection that has been around a fe...  \n",
       "3   If you are looking for the secret ingredient i...  \n",
       "4   Great taffy at a great price.  There was a wid...  \n",
       "..                                                ...  \n",
       "95  I've been very pleased with the Natural Balanc...  \n",
       "96  My 1-1/2 year old basenji/jack russell mix lov...  \n",
       "97  Our pup has experienced allergies in forms of ...  \n",
       "98  My English Bulldog had skin allergies the summ...  \n",
       "99  I fed this to my Golden Retriever and he hated...  \n",
       "\n",
       "[100 rows x 14 columns]"
      ]
     },
     "execution_count": 13,
     "metadata": {},
     "output_type": "execute_result"
    }
   ],
   "source": [
    "vaders"
   ]
  },
  {
   "cell_type": "markdown",
   "id": "f5dddd1e",
   "metadata": {
    "papermill": {
     "duration": 0.008992,
     "end_time": "2024-02-25T12:13:32.211790",
     "exception": false,
     "start_time": "2024-02-25T12:13:32.202798",
     "status": "completed"
    },
    "tags": []
   },
   "source": []
  },
  {
   "cell_type": "markdown",
   "id": "3b8cc110",
   "metadata": {
    "papermill": {
     "duration": 0.008936,
     "end_time": "2024-02-25T12:13:32.229981",
     "exception": false,
     "start_time": "2024-02-25T12:13:32.221045",
     "status": "completed"
    },
    "tags": []
   },
   "source": [
    "## Checking accuracy using barplot"
   ]
  },
  {
   "cell_type": "code",
   "execution_count": 14,
   "id": "08d5f7bd",
   "metadata": {
    "execution": {
     "iopub.execute_input": "2024-02-25T12:13:32.250602Z",
     "iopub.status.busy": "2024-02-25T12:13:32.250200Z",
     "iopub.status.idle": "2024-02-25T12:13:32.592453Z",
     "shell.execute_reply": "2024-02-25T12:13:32.591325Z"
    },
    "papermill": {
     "duration": 0.358531,
     "end_time": "2024-02-25T12:13:32.598030",
     "exception": false,
     "start_time": "2024-02-25T12:13:32.239499",
     "status": "completed"
    },
    "tags": []
   },
   "outputs": [
    {
     "data": {
      "image/png": "[encoded data removed]",
      "text/plain": [
       "<Figure size 640x480 with 1 Axes>"
      ]
     },
     "metadata": {},
     "output_type": "display_data"
    }
   ],
   "source": [
    "ax=sns.barplot(data=vaders,x=\"Score\",y=\"compound\")\n",
    "plt.show()"
   ]
  }
 ],
 "metadata": {
  "kaggle": {
   "accelerator": "none",
   "dataSources": [
    {
     "datasetId": 18,
     "sourceId": 2157,
     "sourceType": "datasetVersion"
    }
   ],
   "dockerImageVersionId": 30646,
   "isGpuEnabled": false,
   "isInternetEnabled": false,
   "language": "python",
   "sourceType": "notebook"
  },
  "kernelspec": {
   "display_name": "Python 3",
   "language": "python",
   "name": "python3"
  },
  "language_info": {
   "codemirror_mode": {
    "name": "ipython",
    "version": 3
   },
   "file_extension": ".py",
   "mimetype": "text/x-python",
   "name": "python",
   "nbconvert_exporter": "python",
   "pygments_lexer": "ipython3",
   "version": "3.10.13"
  },
  "papermill": {
   "default_parameters": {},
   "duration": 19.379034,
   "end_time": "2024-02-25T12:13:33.432646",
   "environment_variables": {},
   "exception": null,
   "input_path": "__notebook__.ipynb",
   "output_path": "__notebook__.ipynb",
   "parameters": {},
   "start_time": "2024-02-25T12:13:14.053612",
   "version": "2.5.0"
  }
 },
 "nbformat": 4,
 "nbformat_minor": 5
}
